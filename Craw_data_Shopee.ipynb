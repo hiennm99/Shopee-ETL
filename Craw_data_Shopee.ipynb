{
 "cells": [
  {
   "cell_type": "code",
   "execution_count": 22,
   "metadata": {},
   "outputs": [],
   "source": [
    "import numpy as np\n",
    "import regex as re\n",
    "import pandas as pd\n",
    "import random\n",
    "from time import sleep\n",
    "from selenium import webdriver\n",
    "import json\n",
    "from selenium.common.exceptions import NoSuchElementException\n",
    "from selenium.webdriver.common.by import By\n",
    "import requests\n",
    "import json\n",
    "from selenium.webdriver.common.action_chains import ActionChains\n",
    "import concurrent.futures\n",
    "from selenium.webdriver.chrome.options import Options\n"
   ]
  },
  {
   "cell_type": "code",
   "execution_count": 21,
   "metadata": {},
   "outputs": [],
   "source": [
    "chrome_options = Options()\n",
    "chrome_options.add_argument(\"--disable-gpu\")"
   ]
  },
  {
   "cell_type": "code",
   "execution_count": 23,
   "metadata": {},
   "outputs": [
    {
     "name": "stderr",
     "output_type": "stream",
     "text": [
      "C:\\Users\\Admin\\AppData\\Local\\Temp\\ipykernel_17680\\101893016.py:1: DeprecationWarning: executable_path has been deprecated, please pass in a Service object\n",
      "  driver=webdriver.Chrome('chromedriver.exe')\n"
     ]
    }
   ],
   "source": [
    "driver=webdriver.Chrome('chromedriver.exe')"
   ]
  },
  {
   "cell_type": "code",
   "execution_count": 24,
   "metadata": {},
   "outputs": [],
   "source": [
    "driver.get('https://shopee.vn/search?category=11036030&keyword=%C4%91i%E1%BB%87n%20tho%E1%BA%A1i%20di%20%C4%91%E1%BB%99ng&page=1')"
   ]
  },
  {
   "cell_type": "code",
   "execution_count": 12,
   "metadata": {},
   "outputs": [],
   "source": [
    "product_URLs=[]\n",
    "for i in range(28,88):\n",
    "    urls_=[]\n",
    "    item_elem=driver.find_element(By.XPATH,f'/html/head/script[{i}]')\n",
    "    item=item_elem.get_attribute('innerHTML')\n",
    "    x=item.split('\"productID\":\"')\n",
    "    productID=int(x[1].split('\",\"image\"')[0])\n",
    "    y=item.split('\"url\":\"')\n",
    "    URL=y[1].split('\",\"productID\"')[0]\n",
    "    urls_.append(URL)\n",
    "    product_URLs.append(urls_)\n",
    "    "
   ]
  },
  {
   "cell_type": "code",
   "execution_count": 74,
   "metadata": {},
   "outputs": [],
   "source": [
    "Master_Product=[]\n",
    "Marketing=[]\n",
    "ProductDetail=[]\n",
    "DetailAPI=[]\n",
    "DetailSele=[]"
   ]
  },
  {
   "cell_type": "code",
   "execution_count": 614,
   "metadata": {},
   "outputs": [],
   "source": [
    "productID=product_data['itemid']\n",
    "productName=product_data['name']\n",
    "#Category\n",
    "category=''\n",
    "for cat in product_data['fe_categories']:\n",
    "    category=category+cat['display_name']+' > '\n",
    "    category=category[0:-2]\n",
    "\n",
    "#Location\n",
    "location=product_data['shop_location']\n",
    "\n",
    "#Brand\n",
    "brand_name=product_data['brand']"
   ]
  },
  {
   "cell_type": "code",
   "execution_count": null,
   "metadata": {},
   "outputs": [],
   "source": [
    "https://shopee.vn/api/v4/item/get?itemid=18030389226&shopid=65589552\n"
   ]
  },
  {
   "cell_type": "code",
   "execution_count": 136,
   "metadata": {},
   "outputs": [],
   "source": [
    "\n",
    "DetailAPI=[]\n",
    "api_URL= f'https://shopee.vn/api/v4/item/get?itemid=21649786963&shopid=88201679'\n",
    "payload={\n",
    "}\n",
    "headers = {\n",
    "'authority': 'shopee.vn',\n",
    "'accept': 'application/json',\n",
    "'accept-language': 'en-US,en;q=0.9,vi;q=0.8',\n",
    "'content-type': 'application/json',\n",
    "'user-agent': 'Mozilla/5.0 (Windows NT 10.0; Win64; x64) AppleWebKit/537.36 (KHTML, like Gecko) Chrome/110.0.0.0 Safari/537.36',\n",
    "'x-kl-ajax-request': 'Ajax_Request',\n",
    "'x-requested-with': 'XMLHttpRequest',\n",
    "'x-shopee-language': 'vi'\n",
    "}   \n",
    "response = requests.get(api_URL, headers=headers, data=payload)\n",
    "item_raw=response.json()\n",
    "product_data=item_raw['data']\n",
    "\n",
    "## Get master information\n",
    "master_=[]\n",
    "productID                                               #ProductID\n",
    "name=product_data['name']                               #Name\n",
    "#Category\n",
    "category=''\n",
    "for cat in product_data['fe_categories']:\n",
    "    category=category+cat['display_name']+' > '\n",
    "    category=category[0:-2]\n",
    "location=product_data['shop_location']                  #Location\n",
    "brand=product_data['brand']                             #Brand\n",
    "\n",
    "\n",
    "\n",
    "\n",
    "## Get marketing information\n",
    "marketing_=[]\n",
    "productID                                               #productID\n",
    "averageScore=product_data['item_rating']['rating_star'] #Rating star\n",
    "countReviews=product_data['cmt_count']                  #Count reviews\n",
    "soldItems=product_data['historical_sold']               #Sold items\n",
    "\n",
    "##Get detail information from API\n",
    "\n",
    "for i in range(len(product_data['models'])):\n",
    "    detail_api=[]\n",
    "    productID=product_data['models'][i]['itemid']\n",
    "    skuID=product_data['models'][i]['modelid']\n",
    "    skuName_api=product_data['models'][i]['name']\n",
    "    inStock=product_data['models'][i]['normal_stock']\n",
    "    detail_api.append(productID)\n",
    "    detail_api.append(skuID)\n",
    "    detail_api.append(skuName_api)\n",
    "    detail_api.append(inStock)\n",
    "    DetailAPI.append(detail_api)\n",
    "\n"
   ]
  },
  {
   "cell_type": "code",
   "execution_count": 137,
   "metadata": {},
   "outputs": [
    {
     "data": {
      "text/plain": [
       "[[21649786963, 174604855913, 'Gold', 42],\n",
       " [21649786963, 174604855910, 'Deep Purple', 221],\n",
       " [21649786963, 174604855911, 'Silver', 0],\n",
       " [21649786963, 174604855912, 'Space_Black', 135]]"
      ]
     },
     "execution_count": 137,
     "metadata": {},
     "output_type": "execute_result"
    }
   ],
   "source": [
    "DetailAPI"
   ]
  },
  {
   "cell_type": "code",
   "execution_count": 114,
   "metadata": {},
   "outputs": [],
   "source": [
    "df_MasterProduct=pd.DataFrame(data=Master_Product,columns=['Item ID','Title','Category','Brand','Location','Shop ID'])\n",
    "df_Marketing=pd.DataFrame(data=Marketing,columns=['Item ID','Rating star','Count reviews','Sold items'])\n",
    "df_DetailAPI=pd.DataFrame(data=DetailAPI,columns=['Product ID','SKU ID','SKU name'])\n",
    "df_DetailSele=pd.DataFrame(data=DetailSele,columns=['Product ID','SKU name','In stock','Price','Is active'])\n",
    "df_ProductDetail=pd.merge(df_DetailAPI,df_DetailSele,how='left',on=['Product ID','SKU name'])"
   ]
  },
  {
   "cell_type": "code",
   "execution_count": 115,
   "metadata": {},
   "outputs": [
    {
     "data": {
      "text/html": [
       "<div>\n",
       "<style scoped>\n",
       "    .dataframe tbody tr th:only-of-type {\n",
       "        vertical-align: middle;\n",
       "    }\n",
       "\n",
       "    .dataframe tbody tr th {\n",
       "        vertical-align: top;\n",
       "    }\n",
       "\n",
       "    .dataframe thead th {\n",
       "        text-align: right;\n",
       "    }\n",
       "</style>\n",
       "<table border=\"1\" class=\"dataframe\">\n",
       "  <thead>\n",
       "    <tr style=\"text-align: right;\">\n",
       "      <th></th>\n",
       "      <th>Product ID</th>\n",
       "      <th>SKU ID</th>\n",
       "      <th>SKU name</th>\n",
       "      <th>In stock</th>\n",
       "      <th>Price</th>\n",
       "      <th>Is active</th>\n",
       "    </tr>\n",
       "  </thead>\n",
       "  <tbody>\n",
       "    <tr>\n",
       "      <th>0</th>\n",
       "      <td>18030389226</td>\n",
       "      <td>155358420914</td>\n",
       "      <td>Tím Bora</td>\n",
       "      <td>19.990.000</td>\n",
       "      <td>12</td>\n",
       "      <td>1</td>\n",
       "    </tr>\n",
       "    <tr>\n",
       "      <th>1</th>\n",
       "      <td>18030389226</td>\n",
       "      <td>155358420915</td>\n",
       "      <td>Xám Graphite</td>\n",
       "      <td>19.990.000</td>\n",
       "      <td>11</td>\n",
       "      <td>1</td>\n",
       "    </tr>\n",
       "    <tr>\n",
       "      <th>2</th>\n",
       "      <td>18030389226</td>\n",
       "      <td>155358420916</td>\n",
       "      <td>Hồng Champagne</td>\n",
       "      <td>21.790.000</td>\n",
       "      <td>2</td>\n",
       "      <td>1</td>\n",
       "    </tr>\n",
       "    <tr>\n",
       "      <th>3</th>\n",
       "      <td>18030389226</td>\n",
       "      <td>155358420913</td>\n",
       "      <td>Xanh Lovebird</td>\n",
       "      <td>19.990.000</td>\n",
       "      <td>13</td>\n",
       "      <td>1</td>\n",
       "    </tr>\n",
       "  </tbody>\n",
       "</table>\n",
       "</div>"
      ],
      "text/plain": [
       "    Product ID        SKU ID        SKU name    In stock Price  Is active\n",
       "0  18030389226  155358420914        Tím Bora  19.990.000    12          1\n",
       "1  18030389226  155358420915    Xám Graphite  19.990.000    11          1\n",
       "2  18030389226  155358420916  Hồng Champagne  21.790.000     2          1\n",
       "3  18030389226  155358420913   Xanh Lovebird  19.990.000    13          1"
      ]
     },
     "execution_count": 115,
     "metadata": {},
     "output_type": "execute_result"
    }
   ],
   "source": [
    "df_ProductDetail"
   ]
  },
  {
   "cell_type": "code",
   "execution_count": 16,
   "metadata": {},
   "outputs": [],
   "source": [
    "DetailAPI=[]"
   ]
  },
  {
   "cell_type": "code",
   "execution_count": 25,
   "metadata": {},
   "outputs": [],
   "source": [
    "# 0 option\n",
    "link='https://shopee.vn/Mini-Tr%C6%B0%E1%BB%9Dng-H%E1%BB%A3p-Tai-Nghe-Di-%C4%90%E1%BB%99ng-Earbuds-L%C6%B0u-Tr%E1%BB%AF-T%C3%BAi-H%E1%BB%99p-B%E1%BA%A3o-V%E1%BB%87-USB-C%C3%A1p-T%E1%BB%95-Ch%E1%BB%A9c-i.510970183.16870022255'\n",
    "#Retrieve productID and sellerID from link\n",
    "temp1=link.split('?')\n",
    "temp2=temp1[0].split('i.')\n",
    "temp=temp2[1].split('.')\n",
    "shopID=temp[0] #ShopID\n",
    "productID=temp[1] #ProductID\n",
    "\n",
    "api_URL= f'https://shopee.vn/api/v4/item/get?itemid={productID}&shopid={shopID}'\n",
    "payload={\n",
    "}\n",
    "headers = {\n",
    "'authority': 'shopee.vn',\n",
    "'accept': 'application/json',\n",
    "'accept-language': 'en-US,en;q=0.9,vi;q=0.8',\n",
    "'content-type': 'application/json',\n",
    "'user-agent': 'Mozilla/5.0 (Windows NT 10.0; Win64; x64) AppleWebKit/537.36 (KHTML, like Gecko) Chrome/110.0.0.0 Safari/537.36',\n",
    "'x-kl-ajax-request': 'Ajax_Request',\n",
    "'x-requested-with': 'XMLHttpRequest',\n",
    "'x-shopee-language': 'vi'\n",
    "}   \n",
    "#Get data from item url\n",
    "response = requests.get(api_URL, headers=headers, data=payload)\n",
    "item_raw=response.json()\n",
    "product_data=item_raw['data']\n",
    "##Get detail information from API\n",
    "if len(product_data['models'])==1:\n",
    "    detail_api=[]\n",
    "    productID=product_data['models'][0]['itemid']\n",
    "    skuID=product_data['models'][0]['modelid']\n",
    "    skuName=\"Default\"\n",
    "    \n",
    "    detail_api.append(productID)\n",
    "    detail_api.append(skuID)\n",
    "    detail_api.append(skuName)\n",
    "    DetailAPI.append(detail_api)\n",
    "else:\n",
    "    for i in range(len(product_data['models'])):\n",
    "        detail_api=[]\n",
    "        productID=product_data['models'][i]['itemid']\n",
    "        skuID=product_data['models'][i]['modelid']\n",
    "        skuName=product_data['models'][i]['name']\n",
    "        \n",
    "        detail_api.append(productID)\n",
    "        detail_api.append(skuID)\n",
    "        detail_api.append(skuName)\n",
    "        DetailAPI.append(detail_api)\n",
    "\n"
   ]
  },
  {
   "cell_type": "code",
   "execution_count": 18,
   "metadata": {},
   "outputs": [
    {
     "data": {
      "text/plain": [
       "[[16870022255, 190248401122, 'Default']]"
      ]
     },
     "execution_count": 18,
     "metadata": {},
     "output_type": "execute_result"
    }
   ],
   "source": [
    "290987482"
   ]
  },
  {
   "cell_type": "code",
   "execution_count": 32,
   "metadata": {},
   "outputs": [
    {
     "ename": "TypeError",
     "evalue": "object of type 'NoneType' has no len()",
     "output_type": "error",
     "traceback": [
      "\u001b[1;31m---------------------------------------------------------------------------\u001b[0m",
      "\u001b[1;31mTypeError\u001b[0m                                 Traceback (most recent call last)",
      "Cell \u001b[1;32mIn[32], line 18\u001b[0m\n\u001b[0;32m     16\u001b[0m \u001b[39m#define the number of ads published.\u001b[39;00m\n\u001b[0;32m     17\u001b[0m num_ads \u001b[39m=\u001b[39m (r\u001b[39m.\u001b[39mjson()[\u001b[39m'\u001b[39m\u001b[39mdata\u001b[39m\u001b[39m'\u001b[39m][\u001b[39m'\u001b[39m\u001b[39msections\u001b[39m\u001b[39m'\u001b[39m][\u001b[39m0\u001b[39m][\u001b[39m'\u001b[39m\u001b[39mdata\u001b[39m\u001b[39m'\u001b[39m][\u001b[39m'\u001b[39m\u001b[39mitem\u001b[39m\u001b[39m'\u001b[39m])\n\u001b[1;32m---> 18\u001b[0m list_size \u001b[39m=\u001b[39m \u001b[39mlen\u001b[39;49m(num_ads)\n\u001b[0;32m     20\u001b[0m \u001b[39m#creates a while statement using the number of ads created. Since the (index) json file stars with 0, the while statment starts with -1. \u001b[39;00m\n\u001b[0;32m     21\u001b[0m creat_while \u001b[39m=\u001b[39m \u001b[39m-\u001b[39m\u001b[39m1\u001b[39m\n",
      "\u001b[1;31mTypeError\u001b[0m: object of type 'NoneType' has no len()"
     ]
    }
   ],
   "source": [
    "from datetime import date\n",
    "import time\n",
    "import requests\n",
    "\n",
    "#print date to help users to track down when the file was generated.\n",
    "data = date.today()\n",
    "data.strftime(\"%d/%m/%Y\")\n",
    "data1 = date.today()\n",
    "\n",
    "#asks for seller id.\n",
    "seller_shopee_id = '290987482'\n",
    "\n",
    "url_api_request = 'https://shopee.com.br/api/v4/recommend/recommend?bundle=shop_page_product_tab_main&limit=999&offset=0&section=shop_page_product_tab_main_sec&shopid=' + seller_shopee_id\n",
    "r = requests.get(url_api_request)\n",
    "\n",
    "#define the number of ads published.\n",
    "num_ads = (r.json()['data']['sections'][0]['data']['item'])\n",
    "list_size = len(num_ads)\n",
    "\n",
    "#creates a while statement using the number of ads created. Since the (index) json file stars with 0, the while statment starts with -1. \n",
    "creat_while = -1\n",
    "while creat_while < list_size - 1:\n",
    "    creat_while += 1\n",
    "\t\n",
    "    #store the information displayed inside the json file. It's possible to extract even more data, you only need to add the exact json's children path you're interested in. The scrapper will sleep for 1 second and then get the next ad's information.\n",
    "    ad_id = (r.json()['data']['sections'][0]['data']['item'][creat_while]['itemid'])\n",
    "    title = (r.json()['data']['sections'][0]['data']['item'][creat_while]['name'])\n",
    "    stock = (r.json()['data']['sections'][0]['data']['item'][creat_while]['stock'])\n",
    "    sales = (r.json()['data']['sections'][0]['data']['item'][creat_while]['historical_sold'])\n",
    "    likes = (r.json()['data']['sections'][0]['data']['item'][creat_while]['liked_count'])\n",
    "    views = (r.json()['data']['sections'][0]['data']['item'][creat_while]['view_count'])\n",
    "    price = (r.json()['data']['sections'][0]['data']['item'][creat_while]['price'])\n",
    "    rating = (r.json()['data']['sections'][0]['data']['item'][creat_while]['item_rating']['rating_count'][0])\n",
    "    time.sleep(1)\n",
    "\n",
    "    #you've to set where you wanna save the csv file. If you run the code without changing the directory settings, you'll get no data.\n",
    "    print(ad_id, '|', title, '|', stock, '|', price, '|', sales, '|', rating, '|', likes, '|', views, file=open(\"/your-directory/.csv\" % data, \"a\"))\n",
    "\n",
    "print('The scrapper is done. Your CSV file is ready!')"
   ]
  },
  {
   "cell_type": "code",
   "execution_count": 127,
   "metadata": {},
   "outputs": [],
   "source": [
    "df1=pd.read_excel(\"Detail API.xlsx\")"
   ]
  },
  {
   "cell_type": "code",
   "execution_count": 128,
   "metadata": {},
   "outputs": [],
   "source": [
    "df2=pd.read_excel(\"Detail Sele.xlsx\")"
   ]
  },
  {
   "cell_type": "code",
   "execution_count": 129,
   "metadata": {},
   "outputs": [],
   "source": [
    "df=pd.merge(df1,df2,how=\"left\",on=['Product ID','SKU name'])"
   ]
  },
  {
   "cell_type": "code",
   "execution_count": 131,
   "metadata": {},
   "outputs": [],
   "source": [
    "df.to_excel('Product Detail.xlsx')"
   ]
  },
  {
   "cell_type": "code",
   "execution_count": 26,
   "metadata": {},
   "outputs": [
    {
     "ename": "NameError",
     "evalue": "name 'option_elems' is not defined",
     "output_type": "error",
     "traceback": [
      "\u001b[1;31m---------------------------------------------------------------------------\u001b[0m",
      "\u001b[1;31mNameError\u001b[0m                                 Traceback (most recent call last)",
      "Cell \u001b[1;32mIn[26], line 44\u001b[0m\n\u001b[0;32m     42\u001b[0m \u001b[39m#Get option list\u001b[39;00m\n\u001b[0;32m     43\u001b[0m \u001b[39mtry\u001b[39;00m:\n\u001b[1;32m---> 44\u001b[0m     option_list_elems\u001b[39m=\u001b[39moption_elems\u001b[39m.\u001b[39mfind_elements(By\u001b[39m.\u001b[39mCSS_SELECTOR,\u001b[39m'\u001b[39m\u001b[39m.product-variation\u001b[39m\u001b[39m'\u001b[39m)\n\u001b[0;32m     45\u001b[0m     option_list\u001b[39m=\u001b[39m[elem\u001b[39m.\u001b[39mtext \u001b[39mfor\u001b[39;00m elem \u001b[39min\u001b[39;00m option_list_elems]\n\u001b[0;32m     46\u001b[0m \u001b[39mexcept\u001b[39;00m NoSuchElementException \u001b[39mas\u001b[39;00m e:\n",
      "\u001b[1;31mNameError\u001b[0m: name 'option_elems' is not defined"
     ]
    }
   ],
   "source": [
    "# 1 option\n",
    "\n",
    "api_URL= f'https://shopee.vn/api/v4/item/get?itemid=22327845021&shopid=864507286'\n",
    "payload={\n",
    "}\n",
    "headers = {\n",
    "'authority': 'shopee.vn',\n",
    "'accept': 'application/json',\n",
    "'accept-language': 'en-US,en;q=0.9,vi;q=0.8',\n",
    "'content-type': 'application/json',\n",
    "'user-agent': 'Mozilla/5.0 (Windows NT 10.0; Win64; x64) AppleWebKit/537.36 (KHTML, like Gecko) Chrome/110.0.0.0 Safari/537.36',\n",
    "'x-kl-ajax-request': 'Ajax_Request',\n",
    "'x-requested-with': 'XMLHttpRequest',\n",
    "'x-shopee-language': 'vi'\n",
    "}\n",
    "\n",
    "#Get data from item url\n",
    "response = requests.get(api_URL, headers=headers, data=payload)\n",
    "item_raw=response.json()\n",
    "product_data=item_raw['data']\n",
    "DetailAPI=[]\n",
    "for i in range(len(product_data['models'])):\n",
    "    detail_api=[]\n",
    "    productID=product_data['models'][i]['itemid']\n",
    "    skuID=product_data['models'][i]['modelid']\n",
    "    skuName=product_data['models'][i]['name']\n",
    "    detail_api.append(productID)\n",
    "    detail_api.append(skuID)\n",
    "    detail_api.append(skuName)\n",
    "    DetailAPI.append(detail_api)\n",
    "\n",
    "url='https://shopee.vn/%C4%90i%E1%BB%87n-tho%E1%BA%A1i-di-%C4%91%E1%BB%99ng-Reno7-Pro-12GB-512GB-%C4%91i%E1%BB%87n-tho%E1%BA%A1i-th%C3%B4ng-minh-b%E1%BA%A3n-g%E1%BB%91c-5G-android-%C4%91i%E1%BB%87n-tho%E1%BA%A1i-di-%C4%91%E1%BB%99ng-COD-i.864507286.22327845021?sp_atk=ee64ed04-e14c-4af0-8146-f38e710e846b&xptdk=ee64ed04-e14c-4af0-8146-f38e710e846b'\n",
    "driver.get(url)\n",
    "sleep(2)\n",
    "DetailSele=[]\n",
    "#Get all option elements\n",
    "try:\n",
    "    option_elems=driver.find_element(By.CSS_SELECTOR,\".bR6mEk\")\n",
    "except NoSuchElementException as e:\n",
    "    e\n",
    "    \n",
    "#Get option list\n",
    "try:\n",
    "    option_list_elems=option_elems.find_elements(By.CSS_SELECTOR,'.product-variation')\n",
    "    option_list=[elem.text for elem in option_list_elems]\n",
    "except NoSuchElementException as e:\n",
    "    option_list=[]\n",
    "     \n",
    "action = ActionChains(driver)\n",
    "\n",
    "for i in range(len(option_list)):\n",
    "    option_button=option_list_elems[i]\n",
    "    detail_=[]\n",
    "    #Check if option1_button is disabled ?\n",
    "    if option_button.get_attribute(\"aria-disabled\")=='false': \n",
    "        action.click(on_element=option_button)\n",
    "        action.perform()\n",
    "        sleep(0.5)\n",
    "        \n",
    "        skuName=f'{option_list[i]}'   \n",
    "            \n",
    "        #Get price            \n",
    "        try:\n",
    "            price_elem=driver.find_element(By.CSS_SELECTOR,\".pqTWkA\")\n",
    "            price_=price_elem.text\n",
    "        except NoSuchElementException as e:\n",
    "            price_=''\n",
    "        price=price_[1:]\n",
    "        \n",
    "        #Get inStock\n",
    "        try:\n",
    "            inStock_elem=driver.find_element(By.CSS_SELECTOR,'._6lioXX')\n",
    "            inStock_=inStock_elem.text \n",
    "        except Exception as e:\n",
    "            inStock_=''\n",
    "            \n",
    "        inStock=re.findall('[0-9]+',inStock_)[0]\n",
    "        \n",
    "        detail_.append(skuName)\n",
    "        detail_.append(price)\n",
    "        detail_.append(inStock)\n",
    "        detail_.append(1)   #Is Active\n",
    "        \n",
    "        DetailSele.append(detail_)\n",
    "    else:\n",
    "        skuName=f'{option_list[i]}'\n",
    "            \n",
    "        detail_.append(skuName)\n",
    "        detail_.append('')\n",
    "        detail_.append(0)\n",
    "        detail_.append(0)\n",
    "        DetailSele.append(detail_)\n",
    "df1=pd.DataFrame(data=DetailAPI,columns=['Product ID','SKU ID','SKU name'])\n",
    "df2=pd.DataFrame(data=DetailSele,columns=['SKU name','Price','In Stock','Is Active'])\n",
    "df=pd.merge(left=df1,right=df2,on=['SKU name','SKU name'])\n",
    "ProductDetail_df=ProductDetail_df.append(df)\n",
    "df1.drop(df1.index, inplace=True)\n",
    "df2.drop(df2.index, inplace=True)\n",
    "df.drop(df.index, inplace=True)\n",
    "ProductDetail_df"
   ]
  },
  {
   "cell_type": "code",
   "execution_count": 43,
   "metadata": {},
   "outputs": [
    {
     "name": "stderr",
     "output_type": "stream",
     "text": [
      "C:\\Users\\Admin\\AppData\\Local\\Temp\\ipykernel_8868\\819417563.py:134: FutureWarning: The frame.append method is deprecated and will be removed from pandas in a future version. Use pandas.concat instead.\n",
      "  ProductDetail_df=ProductDetail_df.append(df)\n"
     ]
    },
    {
     "data": {
      "text/html": [
       "<div>\n",
       "<style scoped>\n",
       "    .dataframe tbody tr th:only-of-type {\n",
       "        vertical-align: middle;\n",
       "    }\n",
       "\n",
       "    .dataframe tbody tr th {\n",
       "        vertical-align: top;\n",
       "    }\n",
       "\n",
       "    .dataframe thead th {\n",
       "        text-align: right;\n",
       "    }\n",
       "</style>\n",
       "<table border=\"1\" class=\"dataframe\">\n",
       "  <thead>\n",
       "    <tr style=\"text-align: right;\">\n",
       "      <th></th>\n",
       "      <th>Product ID</th>\n",
       "      <th>SKU ID</th>\n",
       "      <th>SKU name</th>\n",
       "      <th>Price</th>\n",
       "      <th>In Stock</th>\n",
       "      <th>Is Active</th>\n",
       "    </tr>\n",
       "  </thead>\n",
       "  <tbody>\n",
       "    <tr>\n",
       "      <th>0</th>\n",
       "      <td>22327845021</td>\n",
       "      <td>203943957894</td>\n",
       "      <td>gold</td>\n",
       "      <td>1.165.000</td>\n",
       "      <td>94</td>\n",
       "      <td>1</td>\n",
       "    </tr>\n",
       "    <tr>\n",
       "      <th>1</th>\n",
       "      <td>22327845021</td>\n",
       "      <td>203943957895</td>\n",
       "      <td>black</td>\n",
       "      <td>1.165.000</td>\n",
       "      <td>93</td>\n",
       "      <td>1</td>\n",
       "    </tr>\n",
       "    <tr>\n",
       "      <th>2</th>\n",
       "      <td>22327845021</td>\n",
       "      <td>203943957896</td>\n",
       "      <td>blue</td>\n",
       "      <td>1.165.000</td>\n",
       "      <td>93</td>\n",
       "      <td>1</td>\n",
       "    </tr>\n",
       "    <tr>\n",
       "      <th>3</th>\n",
       "      <td>22327845021</td>\n",
       "      <td>203943957897</td>\n",
       "      <td>gold.</td>\n",
       "      <td></td>\n",
       "      <td>0</td>\n",
       "      <td>0</td>\n",
       "    </tr>\n",
       "    <tr>\n",
       "      <th>4</th>\n",
       "      <td>22327845021</td>\n",
       "      <td>203943957898</td>\n",
       "      <td>black.</td>\n",
       "      <td></td>\n",
       "      <td>0</td>\n",
       "      <td>0</td>\n",
       "    </tr>\n",
       "    <tr>\n",
       "      <th>5</th>\n",
       "      <td>22327845021</td>\n",
       "      <td>203943957899</td>\n",
       "      <td>blue.</td>\n",
       "      <td></td>\n",
       "      <td>0</td>\n",
       "      <td>0</td>\n",
       "    </tr>\n",
       "    <tr>\n",
       "      <th>0</th>\n",
       "      <td>18725012388</td>\n",
       "      <td>164607014099</td>\n",
       "      <td>Twillight Blue,4+128GB</td>\n",
       "      <td></td>\n",
       "      <td>0</td>\n",
       "      <td>0</td>\n",
       "    </tr>\n",
       "    <tr>\n",
       "      <th>1</th>\n",
       "      <td>18725012388</td>\n",
       "      <td>163728151465</td>\n",
       "      <td>Midnight Gray,3+64GB</td>\n",
       "      <td>2.190.000</td>\n",
       "      <td>1465</td>\n",
       "      <td>1</td>\n",
       "    </tr>\n",
       "    <tr>\n",
       "      <th>2</th>\n",
       "      <td>18725012388</td>\n",
       "      <td>163728151466</td>\n",
       "      <td>Midnight Gray,4+128GB</td>\n",
       "      <td></td>\n",
       "      <td>0</td>\n",
       "      <td>0</td>\n",
       "    </tr>\n",
       "    <tr>\n",
       "      <th>3</th>\n",
       "      <td>18725012388</td>\n",
       "      <td>163728151467</td>\n",
       "      <td>Lavender Purple,3+64GB</td>\n",
       "      <td>2.190.000</td>\n",
       "      <td>158</td>\n",
       "      <td>1</td>\n",
       "    </tr>\n",
       "    <tr>\n",
       "      <th>4</th>\n",
       "      <td>18725012388</td>\n",
       "      <td>163728151468</td>\n",
       "      <td>Lavender Purple,4+128GB</td>\n",
       "      <td></td>\n",
       "      <td>0</td>\n",
       "      <td>0</td>\n",
       "    </tr>\n",
       "    <tr>\n",
       "      <th>5</th>\n",
       "      <td>18725012388</td>\n",
       "      <td>163728151469</td>\n",
       "      <td>Aurora Green,3+64GB</td>\n",
       "      <td>2.190.000</td>\n",
       "      <td>368</td>\n",
       "      <td>1</td>\n",
       "    </tr>\n",
       "    <tr>\n",
       "      <th>6</th>\n",
       "      <td>18725012388</td>\n",
       "      <td>163728151470</td>\n",
       "      <td>Aurora Green,4+128GB</td>\n",
       "      <td></td>\n",
       "      <td>0</td>\n",
       "      <td>0</td>\n",
       "    </tr>\n",
       "    <tr>\n",
       "      <th>7</th>\n",
       "      <td>18725012388</td>\n",
       "      <td>164607014098</td>\n",
       "      <td>Twillight Blue,3+64GB</td>\n",
       "      <td></td>\n",
       "      <td>0</td>\n",
       "      <td>0</td>\n",
       "    </tr>\n",
       "  </tbody>\n",
       "</table>\n",
       "</div>"
      ],
      "text/plain": [
       "    Product ID        SKU ID                 SKU name      Price In Stock  \\\n",
       "0  22327845021  203943957894                     gold  1.165.000       94   \n",
       "1  22327845021  203943957895                    black  1.165.000       93   \n",
       "2  22327845021  203943957896                     blue  1.165.000       93   \n",
       "3  22327845021  203943957897                    gold.                   0   \n",
       "4  22327845021  203943957898                   black.                   0   \n",
       "5  22327845021  203943957899                    blue.                   0   \n",
       "0  18725012388  164607014099   Twillight Blue,4+128GB                   0   \n",
       "1  18725012388  163728151465     Midnight Gray,3+64GB  2.190.000     1465   \n",
       "2  18725012388  163728151466    Midnight Gray,4+128GB                   0   \n",
       "3  18725012388  163728151467   Lavender Purple,3+64GB  2.190.000      158   \n",
       "4  18725012388  163728151468  Lavender Purple,4+128GB                   0   \n",
       "5  18725012388  163728151469      Aurora Green,3+64GB  2.190.000      368   \n",
       "6  18725012388  163728151470     Aurora Green,4+128GB                   0   \n",
       "7  18725012388  164607014098    Twillight Blue,3+64GB                   0   \n",
       "\n",
       "  Is Active  \n",
       "0         1  \n",
       "1         1  \n",
       "2         1  \n",
       "3         0  \n",
       "4         0  \n",
       "5         0  \n",
       "0         0  \n",
       "1         1  \n",
       "2         0  \n",
       "3         1  \n",
       "4         0  \n",
       "5         1  \n",
       "6         0  \n",
       "7         0  "
      ]
     },
     "execution_count": 43,
     "metadata": {},
     "output_type": "execute_result"
    }
   ],
   "source": [
    "#2 options\n",
    "api_URL= f'https://shopee.vn/api/v4/item/get?itemid=18725012388&shopid=799912301'\n",
    "payload={\n",
    "}\n",
    "headers = {\n",
    "'authority': 'shopee.vn',\n",
    "'accept': 'application/json',\n",
    "'accept-language': 'en-US,en;q=0.9,vi;q=0.8',\n",
    "'content-type': 'application/json',\n",
    "'user-agent': 'Mozilla/5.0 (Windows NT 10.0; Win64; x64) AppleWebKit/537.36 (KHTML, like Gecko) Chrome/110.0.0.0 Safari/537.36',\n",
    "'x-kl-ajax-request': 'Ajax_Request',\n",
    "'x-requested-with': 'XMLHttpRequest',\n",
    "'x-shopee-language': 'vi'\n",
    "}\n",
    "#Get data from item url\n",
    "response = requests.get(api_URL, headers=headers, data=payload)\n",
    "item_raw=response.json()\n",
    "product_data=item_raw['data']\n",
    "\n",
    "DetailAPI=[]\n",
    "for i in range(len(product_data['models'])):\n",
    "    detail_api=[]\n",
    "    productID=product_data['models'][i]['itemid']\n",
    "    skuID=product_data['models'][i]['modelid']\n",
    "    skuName=product_data['models'][i]['name']\n",
    "    detail_api.append(productID)\n",
    "    detail_api.append(skuID)\n",
    "    detail_api.append(skuName)\n",
    "    DetailAPI.append(detail_api)\n",
    "    \n",
    "url='https://shopee.vn/%C4%90i%E1%BB%87n-tho%E1%BA%A1i-Xiaomi-Redmi-9C-3-64G-4-128GB-i.799912301.18725012388?sp_atk=0180998c-a859-4b48-a0de-c54cb23e6ead&xptdk=0180998c-a859-4b48-a0de-c54cb23e6ead'\n",
    "driver.get(url)\n",
    "sleep(2)\n",
    "\n",
    "DetailSele=[]\n",
    "#Get all option elements\n",
    "try:\n",
    "    option_elems=driver.find_elements(By.CSS_SELECTOR,\".bR6mEk\")\n",
    "except NoSuchElementException as e:\n",
    "    e\n",
    "    \n",
    "option1_elems=option_elems[0]\n",
    "#Get option 1\n",
    "try:\n",
    "    option1_list_elems=option1_elems.find_elements(By.CSS_SELECTOR,'.product-variation')\n",
    "    option1_list=[elem.text for elem in option1_list_elems]\n",
    "except NoSuchElementException as e:\n",
    "    e\n",
    "    \n",
    "option2_elems=option_elems[1]\n",
    "#Get option 2\n",
    "try:\n",
    "    option2_list_elems=option2_elems.find_elements(By.CSS_SELECTOR,'.product-variation')\n",
    "    option2_list=[elem.text for elem in option2_list_elems]\n",
    "except NoSuchElementException as e:\n",
    "    e\n",
    "\n",
    "action1 = ActionChains(driver)\n",
    "action2 = ActionChains(driver)\n",
    "\n",
    "for i in range(len(option1_list)):\n",
    "    option1_button=option1_list_elems[i]\n",
    "    \n",
    "    #Check if option1_button is disabled ?\n",
    "    if option1_button.get_attribute(\"aria-disabled\")=='false': \n",
    "        action1.click(on_element=option1_button)\n",
    "        action1.perform()\n",
    "        sleep(0.5)\n",
    "        \n",
    "        for j in range(len(option2_list)):\n",
    "            detail_=[]\n",
    "            option2_button=option2_list_elems[j]\n",
    "            \n",
    "            #Check if option2_button is disabled ?\n",
    "            if option2_button.get_attribute(\"aria-disabled\")=='false': \n",
    "                action2.click(on_element=option2_button)\n",
    "                action2.perform()\n",
    "                sleep(0.5)\n",
    "                \n",
    "                skuName=f'{option1_list[i]},{option2_list[j]}'   \n",
    "                 \n",
    "                #Get price            \n",
    "                try:\n",
    "                    price_elem=driver.find_element(By.CSS_SELECTOR,\".pqTWkA\")\n",
    "                    price_=price_elem.text\n",
    "                except NoSuchElementException as e:\n",
    "                    price_=''\n",
    "                price=price_[1:]\n",
    "                \n",
    "                #Get inStock\n",
    "                try:\n",
    "                    inStock_elem=driver.find_element(By.CSS_SELECTOR,'._6lioXX')\n",
    "                    inStock_=inStock_elem.text \n",
    "                except Exception as e:\n",
    "                    inStock_=''\n",
    "                    \n",
    "                inStock=re.findall('[0-9]+',inStock_)[0]\n",
    "                \n",
    "                detail_.append(skuName)\n",
    "                detail_.append(price)\n",
    "                detail_.append(inStock)\n",
    "                detail_.append(1)   #Is Active\n",
    "                \n",
    "                DetailSele.append(detail_)\n",
    "                \n",
    "                action2.reset_actions()\n",
    "                action2.click(on_element=option2_button)\n",
    "                action2.perform()\n",
    "                sleep(1)\n",
    "            else:\n",
    "                skuName=f'{option1_list[i]},{option2_list[j]}'\n",
    "                \n",
    "                detail_.append(skuName)\n",
    "                detail_.append('')\n",
    "                detail_.append(0)\n",
    "                detail_.append(0)\n",
    "                DetailSele.append(detail_)                       \n",
    "        action1.reset_actions()\n",
    "        \n",
    "    else:\n",
    "        for j in range(len(option2_list)):\n",
    "            detail_=[]\n",
    "            skuName=f'{option1_list[i]},{option2_list[j]}'\n",
    "            \n",
    "            detail_.append(skuName)\n",
    "            detail_.append('')\n",
    "            detail_.append(0)\n",
    "            detail_.append(0)\n",
    "            DetailSele.append(detail_)\n",
    "            \n",
    "df1=pd.DataFrame(data=DetailSele,columns=['SKU name','Price','In Stock','Is Active'])\n",
    "df2=pd.DataFrame(data=DetailAPI,columns=['Product ID','SKU ID','SKU name'])\n",
    "df=pd.merge(left=df2,right=df1,on=['SKU name','SKU name'])\n",
    "ProductDetail_df=ProductDetail_df.append(df)\n",
    "df1.drop(df1.index, inplace=True)\n",
    "df2.drop(df2.index, inplace=True)\n",
    "df.drop(df.index, inplace=True)\n",
    "ProductDetail_df"
   ]
  },
  {
   "cell_type": "code",
   "execution_count": 118,
   "metadata": {},
   "outputs": [],
   "source": [
    "data1=[\n",
    "    [1,101,'type a'],\n",
    "    [3,103,''],\n",
    "    [2,102,'type b']\n",
    "]\n",
    "df1=pd.DataFrame(data=data1,columns=['Product ID','SKU ID','SKU name'])"
   ]
  },
  {
   "cell_type": "code",
   "execution_count": 119,
   "metadata": {},
   "outputs": [],
   "source": [
    "data2=[\n",
    "    [1,'type a',10000],\n",
    "    [2,'type b',30000],\n",
    "    [3,'type c',15000],\n",
    "]\n",
    "df2=pd.DataFrame(data=data2,columns=['Product ID','SKU name','Price'])"
   ]
  },
  {
   "cell_type": "code",
   "execution_count": 120,
   "metadata": {},
   "outputs": [],
   "source": [
    "df=pd.merge(df1,df2,how='left',on=['Product ID','SKU name'])"
   ]
  },
  {
   "cell_type": "code",
   "execution_count": 217,
   "metadata": {},
   "outputs": [],
   "source": [
    "a=[i for i in range(10)]"
   ]
  },
  {
   "cell_type": "code",
   "execution_count": 218,
   "metadata": {},
   "outputs": [],
   "source": [
    "sum=[]"
   ]
  },
  {
   "cell_type": "code",
   "execution_count": 216,
   "metadata": {},
   "outputs": [
    {
     "name": "stdout",
     "output_type": "stream",
     "text": [
      "[0, 1]\n",
      "[2, 3]\n",
      "[4, 5]\n",
      "[6, 7]\n",
      "[8, 9]\n"
     ]
    }
   ],
   "source": [
    "for i in range(0,len(a),2):\n",
    "    b=a[i:i+2]\n",
    "    print(b)"
   ]
  },
  {
   "cell_type": "code",
   "execution_count": 219,
   "metadata": {},
   "outputs": [],
   "source": [
    "def task(x):\n",
    "    sleep(1)\n",
    "    k=[]\n",
    "    k.append(x)\n",
    "    sum.append(k)\n",
    "    sleep(1)"
   ]
  },
  {
   "cell_type": "code",
   "execution_count": 221,
   "metadata": {},
   "outputs": [
    {
     "data": {
      "text/plain": [
       "2.0189472999991267"
      ]
     },
     "execution_count": 221,
     "metadata": {},
     "output_type": "execute_result"
    }
   ],
   "source": [
    "t1=time.perf_counter()\n",
    "with concurrent.futures.ThreadPoolExecutor() as executor:\n",
    "    for i in range(0,len(a),2):\n",
    "        b=a[i:i+2]\n",
    "        executor.map(task,b)\n",
    "t2=time.perf_counter()\n",
    "t2-t1"
   ]
  },
  {
   "cell_type": "code",
   "execution_count": 222,
   "metadata": {},
   "outputs": [
    {
     "data": {
      "text/plain": [
       "10.091021799998998"
      ]
     },
     "execution_count": 222,
     "metadata": {},
     "output_type": "execute_result"
    }
   ],
   "source": [
    "t1=time.perf_counter()\n",
    "\n",
    "for i in range(0,len(a),2):\n",
    "    b=a[i:i+2]\n",
    "    with concurrent.futures.ThreadPoolExecutor() as executor:\n",
    "        executor.map(task,b)\n",
    "t2=time.perf_counter()\n",
    "t2-t1"
   ]
  },
  {
   "cell_type": "code",
   "execution_count": 195,
   "metadata": {},
   "outputs": [
    {
     "data": {
      "text/plain": [
       "[[4], [2], [0], [1], [3], [6], [7], [8], [5], [9]]"
      ]
     },
     "execution_count": 195,
     "metadata": {},
     "output_type": "execute_result"
    }
   ],
   "source": [
    "sum"
   ]
  }
 ],
 "metadata": {
  "kernelspec": {
   "display_name": "Python 3",
   "language": "python",
   "name": "python3"
  },
  "language_info": {
   "codemirror_mode": {
    "name": "ipython",
    "version": 3
   },
   "file_extension": ".py",
   "mimetype": "text/x-python",
   "name": "python",
   "nbconvert_exporter": "python",
   "pygments_lexer": "ipython3",
   "version": "3.8.10"
  },
  "orig_nbformat": 4,
  "vscode": {
   "interpreter": {
    "hash": "a4868653bb6f8972e87e4c446ab8a445a15b25dedb8594cc74c480f8152ea86a"
   }
  }
 },
 "nbformat": 4,
 "nbformat_minor": 2
}
